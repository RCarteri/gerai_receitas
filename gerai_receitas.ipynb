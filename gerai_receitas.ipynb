{
  "nbformat": 4,
  "nbformat_minor": 0,
  "metadata": {
    "colab": {
      "provenance": [],
      "authorship_tag": "ABX9TyMahI3v9cD/wmZd662z/qpO",
      "include_colab_link": true
    },
    "kernelspec": {
      "name": "python3",
      "display_name": "Python 3"
    },
    "language_info": {
      "name": "python"
    }
  },
  "cells": [
    {
      "cell_type": "markdown",
      "metadata": {
        "id": "view-in-github",
        "colab_type": "text"
      },
      "source": [
        "<a href=\"https://colab.research.google.com/github/RCarteri/gerai_receitas/blob/main/gerai_receitas.ipynb\" target=\"_parent\"><img src=\"https://colab.research.google.com/assets/colab-badge.svg\" alt=\"Open In Colab\"/></a>"
      ]
    },
    {
      "cell_type": "markdown",
      "source": [
        "# Cansado de abrir a geladeira e não saber o que fazer? 🍲 🤔\n",
        "Apresentamos o Gerador de Receitas, a solução para suas dúvidas culinárias!\n",
        "Com nosso aplicativo você pode:\n",
        "\n",
        "- Informar os ingredientes que você tem em casa (por texto ou fotos!) 📸\n",
        "- Tirar fotos dos ingredientes na hora, direto pelo aplicativo ou anexar as imagens!\n",
        "- Receber sugestões de receitas deliciosas e fáceis de preparar! 😋\n",
        "- Explorar um mundo de sabores com combinações que você nunca imaginou! 🤯\n",
        "- Receber um relatório nutricional e de benefícios da sua receita.\n",
        "\n",
        "Chega de desperdício! 🚫 🥬 Transforme os ingredientes esquecidos em pratos incríveis com o Gerador de Receitas.\n",
        "\n",
        "Baixe agora e libere o chef que existe em você!"
      ],
      "metadata": {
        "id": "zxAQUVMxoyxC"
      }
    },
    {
      "cell_type": "markdown",
      "source": [
        "Definição das principais varíavei do projeto"
      ],
      "metadata": {
        "id": "hhhzg4uYnu77"
      }
    },
    {
      "cell_type": "code",
      "source": [
        "caminho_imagens = \"/content/imagens\"\n",
        "modelo_img=\"gemini-pro-vision\"\n",
        "modelo_txt=\"gemini-pro\"\n",
        "gemini_api_secret_name = 'API_KEY'"
      ],
      "metadata": {
        "id": "ldWbPeEB3kOV"
      },
      "execution_count": 1,
      "outputs": []
    },
    {
      "cell_type": "markdown",
      "source": [
        "Importação das bibliotecas"
      ],
      "metadata": {
        "id": "ehtItL_UqqMt"
      }
    },
    {
      "cell_type": "code",
      "source": [
        "import PIL.Image\n",
        "import os\n",
        "import google.generativeai as genai\n",
        "import time\n",
        "from google.colab import userdata\n",
        "from IPython.display import Markdown, display, Javascript, Image\n",
        "from google.colab.output import eval_js\n",
        "from base64 import b64decode"
      ],
      "metadata": {
        "id": "AmuxFiJV1gkA"
      },
      "execution_count": 2,
      "outputs": []
    },
    {
      "cell_type": "markdown",
      "source": [
        "Instalação da ferramenta do google ai"
      ],
      "metadata": {
        "id": "m0G_UdL3qtNJ"
      }
    },
    {
      "cell_type": "code",
      "source": [
        "!pip install -q -U google-generativeai"
      ],
      "metadata": {
        "id": "4nJw1YZh14bI"
      },
      "execution_count": 3,
      "outputs": []
    },
    {
      "cell_type": "markdown",
      "source": [
        "Funções para tirar fotos com a câmera do seu computador"
      ],
      "metadata": {
        "id": "OLya2seaq0KH"
      }
    },
    {
      "cell_type": "code",
      "source": [
        "def get_foto(quality=0.8):\n",
        "  timestamp = int(time.time())\n",
        "  filename = f'{caminho_imagens}/ingredient_{timestamp}.jpg'\n",
        "  js = Javascript('''\n",
        "    async function takePhoto(quality) {\n",
        "      const div = document.createElement('div');\n",
        "      const capture = document.createElement('button');\n",
        "      capture.textContent = 'Capturar';\n",
        "      div.appendChild(capture);\n",
        "\n",
        "      const video = document.createElement('video');\n",
        "      video.style.display = 'block';\n",
        "      const stream = await navigator.mediaDevices.getUserMedia({video: true});\n",
        "\n",
        "      document.body.appendChild(div);\n",
        "      div.appendChild(video);\n",
        "      video.srcObject = stream;\n",
        "      await video.play();\n",
        "      google.colab.output.setIframeHeight(document.documentElement.scrollHeight, true);\n",
        "      await new Promise((resolve) => capture.onclick = resolve);\n",
        "\n",
        "      const canvas = document.createElement('canvas');\n",
        "      canvas.width = video.videoWidth;\n",
        "      canvas.height = video.videoHeight;\n",
        "      canvas.getContext('2d').drawImage(video, 0, 0);\n",
        "      stream.getVideoTracks()[0].stop();\n",
        "      div.remove();\n",
        "      return canvas.toDataURL('image/jpeg/content', quality);\n",
        "    }\n",
        "    ''')\n",
        "  display(js)\n",
        "  data = eval_js('takePhoto({})'.format(quality))\n",
        "  binary = b64decode(data.split(',')[1])\n",
        "  with open(filename, 'wb') as f:\n",
        "    f.write(binary)\n",
        "  return filename\n",
        "\n",
        "def tirar_foto():\n",
        "  try:\n",
        "    filename = get_foto()\n",
        "    print(f'Salvo em {filename}')\n",
        "    display(Image(filename))\n",
        "  except Exception as err:\n",
        "    print(str(err))"
      ],
      "metadata": {
        "id": "x9cBN_DISMXH"
      },
      "execution_count": 4,
      "outputs": []
    },
    {
      "cell_type": "markdown",
      "source": [
        "Principais funções do projeto"
      ],
      "metadata": {
        "id": "HIOQe5jJq74d"
      }
    },
    {
      "cell_type": "code",
      "source": [
        "def get_api_key():\n",
        "  try:\n",
        "    GOOGLE_API_KEY=userdata.get(gemini_api_secret_name)\n",
        "    genai.configure(api_key=GOOGLE_API_KEY)\n",
        "  except userdata.SecretNotFoundError as e:\n",
        "    print(f'Google ai api key não encontrada\\n\\nEspera-se que você crie uma secret chamada {gemini_api_secret_name} no Colab\\n\\nVisite https://makersuite.google.com/app/apikey para criar uma API key\\n\\nArmazene isso na seção de segredos no lado esquerdo do notebook (ícone de chave).\\n\\nNome da secret {gemini_api_secret_name}')\n",
        "    raise e\n",
        "  except userdata.NotebookAccessError as e:\n",
        "    print(f'Você precisa conceder acesso a este notebook ao {gemini_api_secret_name} secret para que o notebook acesse a Gemini em seu nome.')\n",
        "    raise e\n",
        "  except Exception as e:\n",
        "    print(f\"Houve um erro desconhecido. Certifique-se de ter uma secret {gemini_api_secret_name} armazenado no Colab e é uma chave válida de https://makersuite.google.com/app/apikey\")\n",
        "    raise e\n",
        "\n",
        "def gerar_modelo(modelo):\n",
        "  return genai.GenerativeModel(model_name=modelo,\n",
        "                                  generation_config=generation_config,\n",
        "                                  safety_settings=safety_settings,)\n",
        "def get_imagens():\n",
        "  lista_arquivos = []\n",
        "  for diretorio, _, arquivos in os.walk(caminho_imagens):\n",
        "    for arquivo in arquivos:\n",
        "      caminho_completo = os.path.join(diretorio, arquivo)\n",
        "      lista_arquivos.append(caminho_completo)\n",
        "  assert len(lista_arquivos) != 0, f\"Nenhuma imagem encontrada no caminho: {caminho_imagens}\"\n",
        "  return lista_arquivos\n",
        "\n",
        "def get_prompt_imagens():\n",
        "  imagens_path = get_imagens()\n",
        "  prompt_list = [msg_receita]\n",
        "  for imagem_path in imagens_path:\n",
        "    prompt_list.append(PIL.Image.open(imagem_path))\n",
        "  return prompt_list\n",
        "\n",
        "def print_markdown(msg):\n",
        "  display(Markdown(msg))\n",
        "\n",
        "def get_msg_escolha(escolha):\n",
        "  if escolha == \"1\":\n",
        "    return msg_digitar\n",
        "  elif escolha == \"2\":\n",
        "    return msg_anexar\n",
        "  else:\n",
        "    raise ValueError(\"Escolha inválida, digite 1 ou 2\")\n",
        "\n",
        "def anexar_imagens():\n",
        "  opcao = input(\"\\n\")\n",
        "  while opcao != \"0\":\n",
        "    if opcao == \"1\":\n",
        "      print_markdown(tutorial_anexar_imagem)\n",
        "      opcao = input(\"\\nAnexe todas as fotos e ao finalizar digite 0...\\n\")\n",
        "    elif opcao == \"2\":\n",
        "      tirar_foto()\n",
        "      opcao = input(\"\\nDigite 2 para tirar a próxima foto ou 0 para finalizar...\\n\")\n",
        "    else:\n",
        "      raise ValueError(\"Escolha inválida, digite 1, 2 ou 0\")\n",
        "\n",
        "def print_receita(escolha):\n",
        "  prompt = [msg_receita]\n",
        "  if escolha == \"1\":\n",
        "    ingredientes = input(\"\\n\")\n",
        "    prompt.append(ingredientes)\n",
        "    modelo = modelo_txt\n",
        "  elif escolha == \"2\":\n",
        "    anexar_imagens()\n",
        "    prompt = get_prompt_imagens()\n",
        "    modelo = modelo_img\n",
        "  print(\"\\nGerando receita...\\n\")\n",
        "  response = gerar_modelo(modelo).generate_content(prompt, stream=False)\n",
        "  response.resolve()\n",
        "  print_markdown(response.text)\n",
        "\n",
        "def get_receita():\n",
        "  print_markdown(msg_introducao)\n",
        "  print(\"Digite 1 para informar os ingredientes ou 2 para anexar as imagens...\\n\")\n",
        "  escolha = input()\n",
        "  print_markdown(get_msg_escolha(escolha))\n",
        "  print_receita(escolha)"
      ],
      "metadata": {
        "id": "6dSQJeCf23lF"
      },
      "execution_count": 5,
      "outputs": []
    },
    {
      "cell_type": "markdown",
      "source": [
        "Definição das configurações do gerador de texto do Google"
      ],
      "metadata": {
        "id": "sT3mQmdOrEML"
      }
    },
    {
      "cell_type": "code",
      "source": [
        "get_api_key()\n",
        "\n",
        "generation_config = {\n",
        "  \"candidate_count\": 1,\n",
        "  \"temperature\": 0,\n",
        "}\n",
        "\n",
        "safety_settings={\n",
        "    'HATE': 'BLOCK_NONE',\n",
        "    'HARASSMENT': 'BLOCK_NONE',\n",
        "    'SEXUAL' : 'BLOCK_NONE',\n",
        "    'DANGEROUS' : 'BLOCK_NONE'\n",
        "    }"
      ],
      "metadata": {
        "id": "9tshmIsr197G"
      },
      "execution_count": 6,
      "outputs": []
    },
    {
      "cell_type": "markdown",
      "source": [
        "Definição das mensagens usadas"
      ],
      "metadata": {
        "id": "EvaWG5TorK2B"
      }
    },
    {
      "cell_type": "code",
      "source": [
        "msg_introducao = \"\"\"\n",
        "  **Bem-vindo ao Chef Digital!** 👨‍🍳\n",
        "  Pronto para descobrir receitas deliciosas com o que você tem em mãos?\n",
        "  Basta escolher:\n",
        "  * **Digitar ingredientes:** Conte-nos o que tem na sua geladeira e despensa.\n",
        "  * **Anexar imagens:** Tire fotos dos seus ingredientes e deixe a mágica acontecer! ✨\n",
        "\n",
        "  Qual será sua escolha hoje?\\n\\n\n",
        "  \"\"\"\n",
        "\n",
        "msg_digitar = \"\"\"\\n\n",
        "  Por favor, digite os ingredientes que você tem disponíveis, **separados por vírgula**.\n",
        "\n",
        "  Por exemplo: **macarrão, tomate, queijo, manjericão**\n",
        "\n",
        "  😊 Aguardo ansiosamente a sua lista!\\n\n",
        "  \"\"\"\n",
        "\n",
        "msg_anexar = \"\"\"\n",
        "  \\n\\n**Anexando fotos dos ingredientes:** 📸\n",
        "  Você pode anexar fotos dos seus ingredientes de duas maneiras:\n",
        "\n",
        "  1- Digite 1 para iniciar o processo de anexar as imagens.\n",
        "\n",
        "  2- Digite 2 para tirar as fotos.\n",
        "\n",
        "  😊 Aguardo ansiosamente a sua lista ou fotos dos ingredientes!\\n\n",
        "  \"\"\"\n",
        "\n",
        "tutorial_anexar_imagem = f\"\"\"\n",
        "   - **Acesse o menu lateral esquerdo do Google Colab e clique no ícone de pasta.**\n",
        "   - **Clique no botão \"Upload\" e selecione as fotos dos seus ingredientes.**\n",
        "   - **Certifique-se de que as fotos sejam salvas na pasta `{caminho_imagens}`.**\n",
        "   \"\"\"\n",
        "\n",
        "msg_receita = \"Tendo como base os ingredientes a seguir, gere uma opção de receita em formato de tabela markdown com titulo, quantidade, ingredientes, fora da tabela o modo de preparo, beneficios e valor nutricional incluindo os números abreviados\""
      ],
      "metadata": {
        "id": "aO1TZQHwAZSN"
      },
      "execution_count": 7,
      "outputs": []
    },
    {
      "cell_type": "markdown",
      "source": [
        "Chamada da função principal que cria a receita\n",
        "\n",
        "(Às vezes o input não apareceu automaticamente 😅. Sem problemas! Por gentileza, poderia executar a célula novamente para que possamos continuar?)"
      ],
      "metadata": {
        "id": "sHQFzVi4rOHw"
      }
    },
    {
      "cell_type": "code",
      "source": [
        "get_receita()"
      ],
      "metadata": {
        "colab": {
          "base_uri": "https://localhost:8080/",
          "height": 951
        },
        "id": "BI5e6GTOA1qY",
        "outputId": "98fe5611-cbd6-4253-d5b0-aa1cd4116937"
      },
      "execution_count": 8,
      "outputs": [
        {
          "output_type": "display_data",
          "data": {
            "text/plain": [
              "<IPython.core.display.Markdown object>"
            ],
            "text/markdown": "\n  **Bem-vindo ao Chef Digital!** 👨‍🍳  \n  Pronto para descobrir receitas deliciosas com o que você tem em mãos? \n  Basta escolher:\n  * **Digitar ingredientes:** Conte-nos o que tem na sua geladeira e despensa.\n  * **Anexar imagens:** Tire fotos dos seus ingredientes e deixe a mágica acontecer! ✨\n\n  Qual será sua escolha hoje?\n\n\n  "
          },
          "metadata": {}
        },
        {
          "name": "stdout",
          "output_type": "stream",
          "text": [
            "Digite 1 para informar os ingredientes ou 2 para anexar as imagens...\n",
            "\n",
            "1\n"
          ]
        },
        {
          "output_type": "display_data",
          "data": {
            "text/plain": [
              "<IPython.core.display.Markdown object>"
            ],
            "text/markdown": "\n\n  Por favor, digite os ingredientes que você tem disponíveis, **separados por vírgula**. \n\n  Por exemplo: **macarrão, tomate, queijo, manjericão** \n\n  😊 Aguardo ansiosamente a sua lista!\n\n  "
          },
          "metadata": {}
        },
        {
          "output_type": "stream",
          "name": "stdout",
          "text": [
            "\n",
            "massa, creme de leite, carne de gado, vinho, tomate, manjericao\n",
            "\n",
            "Gerando receita...\n",
            "\n"
          ]
        },
        {
          "output_type": "display_data",
          "data": {
            "text/plain": [
              "<IPython.core.display.Markdown object>"
            ],
            "text/markdown": "**Receita de Ragu de Carne**\n\n| Ingrediente | Quantidade |\n|---|---|\n| Massa | 500g |\n| Creme de leite | 1 caixa (200g) |\n| Carne de gado moída | 500g |\n| Vinho tinto | 1/2 xícara |\n| Tomate pelado | 1 lata (400g) |\n| Manjericão fresco | 1/2 xícara |\n\n**Modo de Preparo:**\n\n1. Em uma panela grande, doure a carne moída em fogo médio.\n2. Adicione o vinho e deixe evaporar.\n3. Acrescente o tomate pelado, o manjericão e sal e pimenta a gosto.\n4. Deixe cozinhar em fogo baixo por cerca de 1 hora, ou até que o molho engrosse.\n5. Cozinhe a massa de acordo com as instruções da embalagem.\n6. Misture o creme de leite ao molho e aqueça até ferver.\n7. Sirva o ragu sobre a massa.\n\n**Benefícios:**\n\n* Rico em proteínas e ferro\n* Fonte de vitaminas e minerais\n* Auxilia na saciedade\n\n**Valor Nutricional (por porção):**\n\n* Calorias: 500\n* Proteínas: 30g\n* Carboidratos: 50g\n* Gorduras: 20g"
          },
          "metadata": {}
        }
      ]
    }
  ]
}